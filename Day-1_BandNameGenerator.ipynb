{
 "cells": [
  {
   "cell_type": "code",
   "execution_count": null,
   "id": "15b26082",
   "metadata": {},
   "outputs": [],
   "source": [
    "#100days100projects"
   ]
  },
  {
   "cell_type": "markdown",
   "id": "97800fec",
   "metadata": {},
   "source": [
    "# BANDNAME GENERATOR"
   ]
  },
  {
   "cell_type": "code",
   "execution_count": 2,
   "id": "a2e7138f",
   "metadata": {},
   "outputs": [
    {
     "name": "stdout",
     "output_type": "stream",
     "text": [
      "This project will give you Name for the band\n",
      "Please Enter your Favourite Actor Name: \n",
      "\n",
      "Mahesh\n",
      "Please Enter the pet name: \n",
      "\n",
      "chintu\n",
      "your band name is: Mahesh chintu\n"
     ]
    }
   ],
   "source": [
    "print(\"This project will give you Name for the band\")\n",
    "print(\"Please Enter your Favourite Actor Name: \\n\")\n",
    "firstname=input()\n",
    "print(\"Please Enter the pet name: \\n\")\n",
    "lastname=input()\n",
    "print(\"your band name is: \"+firstname+\" \"+lastname)"
   ]
  },
  {
   "cell_type": "code",
   "execution_count": null,
   "id": "a5d1fae9",
   "metadata": {},
   "outputs": [],
   "source": []
  }
 ],
 "metadata": {
  "kernelspec": {
   "display_name": "Python 3 (ipykernel)",
   "language": "python",
   "name": "python3"
  },
  "language_info": {
   "codemirror_mode": {
    "name": "ipython",
    "version": 3
   },
   "file_extension": ".py",
   "mimetype": "text/x-python",
   "name": "python",
   "nbconvert_exporter": "python",
   "pygments_lexer": "ipython3",
   "version": "3.11.5"
  }
 },
 "nbformat": 4,
 "nbformat_minor": 5
}
